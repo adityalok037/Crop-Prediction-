{
 "cells": [
  {
   "cell_type": "markdown",
   "id": "d9bec3ea",
   "metadata": {},
   "source": [
    "# Just for Understanding some concept not used ----- main is crop  recomendation "
   ]
  },
  {
   "cell_type": "code",
   "execution_count": 1,
   "id": "d7f9eff6-5080-4d91-8fec-9f5e2dac271c",
   "metadata": {},
   "outputs": [],
   "source": [
    "import pandas as pd\n",
    "import numpy as np\n",
    "import seaborn as sns\n",
    "import matplotlib.pyplot as plt"
   ]
  },
  {
   "cell_type": "code",
   "execution_count": 2,
   "id": "3624c10b-ca6a-48d7-a9a3-fe2610a612c1",
   "metadata": {},
   "outputs": [
    {
     "data": {
      "text/html": [
       "<div>\n",
       "<style scoped>\n",
       "    .dataframe tbody tr th:only-of-type {\n",
       "        vertical-align: middle;\n",
       "    }\n",
       "\n",
       "    .dataframe tbody tr th {\n",
       "        vertical-align: top;\n",
       "    }\n",
       "\n",
       "    .dataframe thead th {\n",
       "        text-align: right;\n",
       "    }\n",
       "</style>\n",
       "<table border=\"1\" class=\"dataframe\">\n",
       "  <thead>\n",
       "    <tr style=\"text-align: right;\">\n",
       "      <th></th>\n",
       "      <th>Unnamed: 0</th>\n",
       "      <th>temperature</th>\n",
       "      <th>humidity</th>\n",
       "      <th>ph</th>\n",
       "      <th>rainfall</th>\n",
       "      <th>label</th>\n",
       "      <th>Nitrogen</th>\n",
       "      <th>Phosphorus</th>\n",
       "      <th>Potassium</th>\n",
       "    </tr>\n",
       "  </thead>\n",
       "  <tbody>\n",
       "    <tr>\n",
       "      <th>0</th>\n",
       "      <td>0</td>\n",
       "      <td>20.879744</td>\n",
       "      <td>82.002744</td>\n",
       "      <td>6.502985</td>\n",
       "      <td>202.935536</td>\n",
       "      <td>rice</td>\n",
       "      <td>70</td>\n",
       "      <td>58</td>\n",
       "      <td>36</td>\n",
       "    </tr>\n",
       "    <tr>\n",
       "      <th>1</th>\n",
       "      <td>1</td>\n",
       "      <td>21.770462</td>\n",
       "      <td>80.319644</td>\n",
       "      <td>7.038096</td>\n",
       "      <td>226.655537</td>\n",
       "      <td>rice</td>\n",
       "      <td>73</td>\n",
       "      <td>51</td>\n",
       "      <td>42</td>\n",
       "    </tr>\n",
       "    <tr>\n",
       "      <th>2</th>\n",
       "      <td>2</td>\n",
       "      <td>23.004459</td>\n",
       "      <td>82.320763</td>\n",
       "      <td>7.840207</td>\n",
       "      <td>263.964248</td>\n",
       "      <td>rice</td>\n",
       "      <td>69</td>\n",
       "      <td>48</td>\n",
       "      <td>40</td>\n",
       "    </tr>\n",
       "    <tr>\n",
       "      <th>3</th>\n",
       "      <td>3</td>\n",
       "      <td>26.491096</td>\n",
       "      <td>80.158363</td>\n",
       "      <td>6.980401</td>\n",
       "      <td>242.864034</td>\n",
       "      <td>rice</td>\n",
       "      <td>91</td>\n",
       "      <td>36</td>\n",
       "      <td>42</td>\n",
       "    </tr>\n",
       "    <tr>\n",
       "      <th>4</th>\n",
       "      <td>4</td>\n",
       "      <td>20.130175</td>\n",
       "      <td>81.604873</td>\n",
       "      <td>7.628473</td>\n",
       "      <td>262.717340</td>\n",
       "      <td>rice</td>\n",
       "      <td>71</td>\n",
       "      <td>48</td>\n",
       "      <td>44</td>\n",
       "    </tr>\n",
       "    <tr>\n",
       "      <th>...</th>\n",
       "      <td>...</td>\n",
       "      <td>...</td>\n",
       "      <td>...</td>\n",
       "      <td>...</td>\n",
       "      <td>...</td>\n",
       "      <td>...</td>\n",
       "      <td>...</td>\n",
       "      <td>...</td>\n",
       "      <td>...</td>\n",
       "    </tr>\n",
       "    <tr>\n",
       "      <th>1895</th>\n",
       "      <td>1895</td>\n",
       "      <td>25.287846</td>\n",
       "      <td>89.636679</td>\n",
       "      <td>6.765095</td>\n",
       "      <td>58.286977</td>\n",
       "      <td>watermelon</td>\n",
       "      <td>106</td>\n",
       "      <td>7</td>\n",
       "      <td>49</td>\n",
       "    </tr>\n",
       "    <tr>\n",
       "      <th>1896</th>\n",
       "      <td>1896</td>\n",
       "      <td>26.638386</td>\n",
       "      <td>84.695469</td>\n",
       "      <td>6.189214</td>\n",
       "      <td>48.324286</td>\n",
       "      <td>watermelon</td>\n",
       "      <td>108</td>\n",
       "      <td>22</td>\n",
       "      <td>52</td>\n",
       "    </tr>\n",
       "    <tr>\n",
       "      <th>1897</th>\n",
       "      <td>1897</td>\n",
       "      <td>25.331045</td>\n",
       "      <td>84.305338</td>\n",
       "      <td>6.904242</td>\n",
       "      <td>41.532187</td>\n",
       "      <td>watermelon</td>\n",
       "      <td>81</td>\n",
       "      <td>23</td>\n",
       "      <td>46</td>\n",
       "    </tr>\n",
       "    <tr>\n",
       "      <th>1898</th>\n",
       "      <td>1898</td>\n",
       "      <td>26.897502</td>\n",
       "      <td>83.892415</td>\n",
       "      <td>6.463271</td>\n",
       "      <td>43.971937</td>\n",
       "      <td>watermelon</td>\n",
       "      <td>108</td>\n",
       "      <td>6</td>\n",
       "      <td>54</td>\n",
       "    </tr>\n",
       "    <tr>\n",
       "      <th>1899</th>\n",
       "      <td>1899</td>\n",
       "      <td>26.986037</td>\n",
       "      <td>89.413849</td>\n",
       "      <td>6.260839</td>\n",
       "      <td>58.548767</td>\n",
       "      <td>watermelon</td>\n",
       "      <td>80</td>\n",
       "      <td>20</td>\n",
       "      <td>45</td>\n",
       "    </tr>\n",
       "  </tbody>\n",
       "</table>\n",
       "<p>1900 rows × 9 columns</p>\n",
       "</div>"
      ],
      "text/plain": [
       "      Unnamed: 0  temperature   humidity        ph    rainfall       label  \\\n",
       "0              0    20.879744  82.002744  6.502985  202.935536        rice   \n",
       "1              1    21.770462  80.319644  7.038096  226.655537        rice   \n",
       "2              2    23.004459  82.320763  7.840207  263.964248        rice   \n",
       "3              3    26.491096  80.158363  6.980401  242.864034        rice   \n",
       "4              4    20.130175  81.604873  7.628473  262.717340        rice   \n",
       "...          ...          ...        ...       ...         ...         ...   \n",
       "1895        1895    25.287846  89.636679  6.765095   58.286977  watermelon   \n",
       "1896        1896    26.638386  84.695469  6.189214   48.324286  watermelon   \n",
       "1897        1897    25.331045  84.305338  6.904242   41.532187  watermelon   \n",
       "1898        1898    26.897502  83.892415  6.463271   43.971937  watermelon   \n",
       "1899        1899    26.986037  89.413849  6.260839   58.548767  watermelon   \n",
       "\n",
       "      Nitrogen  Phosphorus  Potassium  \n",
       "0           70          58         36  \n",
       "1           73          51         42  \n",
       "2           69          48         40  \n",
       "3           91          36         42  \n",
       "4           71          48         44  \n",
       "...        ...         ...        ...  \n",
       "1895       106           7         49  \n",
       "1896       108          22         52  \n",
       "1897        81          23         46  \n",
       "1898       108           6         54  \n",
       "1899        80          20         45  \n",
       "\n",
       "[1900 rows x 9 columns]"
      ]
     },
     "execution_count": 2,
     "metadata": {},
     "output_type": "execute_result"
    }
   ],
   "source": [
    "df_path = '../Processed_Data/crop_recommendation.csv'\n",
    "df = pd.read_csv(df_path)\n",
    "df"
   ]
  },
  {
   "cell_type": "code",
   "execution_count": 3,
   "id": "a461d550-3f38-4088-866c-3649e8623a15",
   "metadata": {},
   "outputs": [],
   "source": [
    "del df['Unnamed: 0']\n",
    "df.rename(columns={'label':'Crop'},inplace=True)  #rename the column name from laebl to Crop"
   ]
  },
  {
   "cell_type": "code",
   "execution_count": 4,
   "id": "e4c2c4d4-d668-4eab-8c1c-8df53403ea4d",
   "metadata": {},
   "outputs": [
    {
     "data": {
      "text/html": [
       "<div>\n",
       "<style scoped>\n",
       "    .dataframe tbody tr th:only-of-type {\n",
       "        vertical-align: middle;\n",
       "    }\n",
       "\n",
       "    .dataframe tbody tr th {\n",
       "        vertical-align: top;\n",
       "    }\n",
       "\n",
       "    .dataframe thead th {\n",
       "        text-align: right;\n",
       "    }\n",
       "</style>\n",
       "<table border=\"1\" class=\"dataframe\">\n",
       "  <thead>\n",
       "    <tr style=\"text-align: right;\">\n",
       "      <th></th>\n",
       "      <th>temperature</th>\n",
       "      <th>humidity</th>\n",
       "      <th>ph</th>\n",
       "      <th>rainfall</th>\n",
       "      <th>Crop</th>\n",
       "      <th>Nitrogen</th>\n",
       "      <th>Phosphorus</th>\n",
       "      <th>Potassium</th>\n",
       "    </tr>\n",
       "  </thead>\n",
       "  <tbody>\n",
       "    <tr>\n",
       "      <th>0</th>\n",
       "      <td>20.879744</td>\n",
       "      <td>82.002744</td>\n",
       "      <td>6.502985</td>\n",
       "      <td>202.935536</td>\n",
       "      <td>rice</td>\n",
       "      <td>70</td>\n",
       "      <td>58</td>\n",
       "      <td>36</td>\n",
       "    </tr>\n",
       "    <tr>\n",
       "      <th>1</th>\n",
       "      <td>21.770462</td>\n",
       "      <td>80.319644</td>\n",
       "      <td>7.038096</td>\n",
       "      <td>226.655537</td>\n",
       "      <td>rice</td>\n",
       "      <td>73</td>\n",
       "      <td>51</td>\n",
       "      <td>42</td>\n",
       "    </tr>\n",
       "    <tr>\n",
       "      <th>2</th>\n",
       "      <td>23.004459</td>\n",
       "      <td>82.320763</td>\n",
       "      <td>7.840207</td>\n",
       "      <td>263.964248</td>\n",
       "      <td>rice</td>\n",
       "      <td>69</td>\n",
       "      <td>48</td>\n",
       "      <td>40</td>\n",
       "    </tr>\n",
       "    <tr>\n",
       "      <th>3</th>\n",
       "      <td>26.491096</td>\n",
       "      <td>80.158363</td>\n",
       "      <td>6.980401</td>\n",
       "      <td>242.864034</td>\n",
       "      <td>rice</td>\n",
       "      <td>91</td>\n",
       "      <td>36</td>\n",
       "      <td>42</td>\n",
       "    </tr>\n",
       "    <tr>\n",
       "      <th>4</th>\n",
       "      <td>20.130175</td>\n",
       "      <td>81.604873</td>\n",
       "      <td>7.628473</td>\n",
       "      <td>262.717340</td>\n",
       "      <td>rice</td>\n",
       "      <td>71</td>\n",
       "      <td>48</td>\n",
       "      <td>44</td>\n",
       "    </tr>\n",
       "  </tbody>\n",
       "</table>\n",
       "</div>"
      ],
      "text/plain": [
       "   temperature   humidity        ph    rainfall  Crop  Nitrogen  Phosphorus  \\\n",
       "0    20.879744  82.002744  6.502985  202.935536  rice        70          58   \n",
       "1    21.770462  80.319644  7.038096  226.655537  rice        73          51   \n",
       "2    23.004459  82.320763  7.840207  263.964248  rice        69          48   \n",
       "3    26.491096  80.158363  6.980401  242.864034  rice        91          36   \n",
       "4    20.130175  81.604873  7.628473  262.717340  rice        71          48   \n",
       "\n",
       "   Potassium  \n",
       "0         36  \n",
       "1         42  \n",
       "2         40  \n",
       "3         42  \n",
       "4         44  "
      ]
     },
     "execution_count": 4,
     "metadata": {},
     "output_type": "execute_result"
    }
   ],
   "source": [
    "df.head()"
   ]
  },
  {
   "cell_type": "code",
   "execution_count": 5,
   "id": "14d2e733-857c-47a2-9f04-8536625742b8",
   "metadata": {},
   "outputs": [
    {
     "data": {
      "text/plain": [
       "(1900, 8)"
      ]
     },
     "execution_count": 5,
     "metadata": {},
     "output_type": "execute_result"
    }
   ],
   "source": [
    "df.shape"
   ]
  },
  {
   "cell_type": "code",
   "execution_count": 6,
   "id": "6342a14e-c8bf-443b-8b85-febf826f7cae",
   "metadata": {},
   "outputs": [
    {
     "data": {
      "text/plain": [
       "15200"
      ]
     },
     "execution_count": 6,
     "metadata": {},
     "output_type": "execute_result"
    }
   ],
   "source": [
    "df.size"
   ]
  },
  {
   "cell_type": "code",
   "execution_count": 7,
   "id": "38d86841-5016-4dca-ad3c-a2bdb5a90f0d",
   "metadata": {},
   "outputs": [
    {
     "data": {
      "text/plain": [
       "array(['rice', 'mungbean', 'maize', 'jute', 'coffee', 'cotton',\n",
       "       'kidneybeans', 'coconut', 'blackgram', 'pigeonpeas', 'banana',\n",
       "       'grapes', 'apple', 'mango', 'muskmelon', 'orange', 'papaya',\n",
       "       'pomegranate', 'watermelon'], dtype=object)"
      ]
     },
     "execution_count": 7,
     "metadata": {},
     "output_type": "execute_result"
    }
   ],
   "source": [
    "df['Crop'].unique()"
   ]
  },
  {
   "cell_type": "code",
   "execution_count": 8,
   "id": "58921825-02f2-4cb0-aa02-ee9a2448ac4d",
   "metadata": {},
   "outputs": [
    {
     "data": {
      "text/html": [
       "<div>\n",
       "<style scoped>\n",
       "    .dataframe tbody tr th:only-of-type {\n",
       "        vertical-align: middle;\n",
       "    }\n",
       "\n",
       "    .dataframe tbody tr th {\n",
       "        vertical-align: top;\n",
       "    }\n",
       "\n",
       "    .dataframe thead th {\n",
       "        text-align: right;\n",
       "    }\n",
       "</style>\n",
       "<table border=\"1\" class=\"dataframe\">\n",
       "  <thead>\n",
       "    <tr style=\"text-align: right;\">\n",
       "      <th></th>\n",
       "      <th>temperature</th>\n",
       "      <th>humidity</th>\n",
       "      <th>ph</th>\n",
       "      <th>rainfall</th>\n",
       "      <th>Nitrogen</th>\n",
       "      <th>Phosphorus</th>\n",
       "      <th>Potassium</th>\n",
       "    </tr>\n",
       "  </thead>\n",
       "  <tbody>\n",
       "    <tr>\n",
       "      <th>count</th>\n",
       "      <td>1900.000000</td>\n",
       "      <td>1900.000000</td>\n",
       "      <td>1900.000000</td>\n",
       "      <td>1900.000000</td>\n",
       "      <td>1900.000000</td>\n",
       "      <td>1900.000000</td>\n",
       "      <td>1900.000000</td>\n",
       "    </tr>\n",
       "    <tr>\n",
       "      <th>mean</th>\n",
       "      <td>25.893713</td>\n",
       "      <td>75.672290</td>\n",
       "      <td>6.380658</td>\n",
       "      <td>110.487500</td>\n",
       "      <td>54.314737</td>\n",
       "      <td>51.909474</td>\n",
       "      <td>49.588947</td>\n",
       "    </tr>\n",
       "    <tr>\n",
       "      <th>std</th>\n",
       "      <td>5.089710</td>\n",
       "      <td>19.394038</td>\n",
       "      <td>0.631001</td>\n",
       "      <td>55.541933</td>\n",
       "      <td>38.743848</td>\n",
       "      <td>34.754813</td>\n",
       "      <td>53.112318</td>\n",
       "    </tr>\n",
       "    <tr>\n",
       "      <th>min</th>\n",
       "      <td>8.825675</td>\n",
       "      <td>18.092240</td>\n",
       "      <td>4.507524</td>\n",
       "      <td>20.211267</td>\n",
       "      <td>0.000000</td>\n",
       "      <td>5.000000</td>\n",
       "      <td>5.000000</td>\n",
       "    </tr>\n",
       "    <tr>\n",
       "      <th>25%</th>\n",
       "      <td>23.114310</td>\n",
       "      <td>65.343225</td>\n",
       "      <td>5.933683</td>\n",
       "      <td>69.284008</td>\n",
       "      <td>21.000000</td>\n",
       "      <td>25.000000</td>\n",
       "      <td>21.000000</td>\n",
       "    </tr>\n",
       "    <tr>\n",
       "      <th>50%</th>\n",
       "      <td>25.721405</td>\n",
       "      <td>82.179794</td>\n",
       "      <td>6.375295</td>\n",
       "      <td>103.042202</td>\n",
       "      <td>40.000000</td>\n",
       "      <td>47.000000</td>\n",
       "      <td>33.500000</td>\n",
       "    </tr>\n",
       "    <tr>\n",
       "      <th>75%</th>\n",
       "      <td>28.656138</td>\n",
       "      <td>90.723953</td>\n",
       "      <td>6.807626</td>\n",
       "      <td>141.137227</td>\n",
       "      <td>90.000000</td>\n",
       "      <td>66.000000</td>\n",
       "      <td>48.000000</td>\n",
       "    </tr>\n",
       "    <tr>\n",
       "      <th>max</th>\n",
       "      <td>43.675493</td>\n",
       "      <td>99.981876</td>\n",
       "      <td>7.995849</td>\n",
       "      <td>298.560117</td>\n",
       "      <td>140.000000</td>\n",
       "      <td>145.000000</td>\n",
       "      <td>205.000000</td>\n",
       "    </tr>\n",
       "  </tbody>\n",
       "</table>\n",
       "</div>"
      ],
      "text/plain": [
       "       temperature     humidity           ph     rainfall     Nitrogen  \\\n",
       "count  1900.000000  1900.000000  1900.000000  1900.000000  1900.000000   \n",
       "mean     25.893713    75.672290     6.380658   110.487500    54.314737   \n",
       "std       5.089710    19.394038     0.631001    55.541933    38.743848   \n",
       "min       8.825675    18.092240     4.507524    20.211267     0.000000   \n",
       "25%      23.114310    65.343225     5.933683    69.284008    21.000000   \n",
       "50%      25.721405    82.179794     6.375295   103.042202    40.000000   \n",
       "75%      28.656138    90.723953     6.807626   141.137227    90.000000   \n",
       "max      43.675493    99.981876     7.995849   298.560117   140.000000   \n",
       "\n",
       "        Phosphorus    Potassium  \n",
       "count  1900.000000  1900.000000  \n",
       "mean     51.909474    49.588947  \n",
       "std      34.754813    53.112318  \n",
       "min       5.000000     5.000000  \n",
       "25%      25.000000    21.000000  \n",
       "50%      47.000000    33.500000  \n",
       "75%      66.000000    48.000000  \n",
       "max     145.000000   205.000000  "
      ]
     },
     "execution_count": 8,
     "metadata": {},
     "output_type": "execute_result"
    }
   ],
   "source": [
    "df.describe()"
   ]
  },
  {
   "cell_type": "code",
   "execution_count": 9,
   "id": "c935b23d-27a8-4eec-8323-667b3642270a",
   "metadata": {},
   "outputs": [
    {
     "data": {
      "text/plain": [
       "temperature    float64\n",
       "humidity       float64\n",
       "ph             float64\n",
       "rainfall       float64\n",
       "Crop            object\n",
       "Nitrogen         int64\n",
       "Phosphorus       int64\n",
       "Potassium        int64\n",
       "dtype: object"
      ]
     },
     "execution_count": 9,
     "metadata": {},
     "output_type": "execute_result"
    }
   ],
   "source": [
    "df.dtypes"
   ]
  },
  {
   "cell_type": "code",
   "execution_count": 10,
   "id": "d390fc16-f52e-4a91-9087-4e0f83ec9731",
   "metadata": {
    "scrolled": true
   },
   "outputs": [
    {
     "data": {
      "text/plain": [
       "Crop\n",
       "rice           100\n",
       "banana         100\n",
       "pomegranate    100\n",
       "papaya         100\n",
       "orange         100\n",
       "muskmelon      100\n",
       "mango          100\n",
       "apple          100\n",
       "grapes         100\n",
       "pigeonpeas     100\n",
       "mungbean       100\n",
       "blackgram      100\n",
       "coconut        100\n",
       "kidneybeans    100\n",
       "cotton         100\n",
       "coffee         100\n",
       "jute           100\n",
       "maize          100\n",
       "watermelon     100\n",
       "Name: count, dtype: int64"
      ]
     },
     "execution_count": 10,
     "metadata": {},
     "output_type": "execute_result"
    }
   ],
   "source": [
    "df['Crop'].value_counts()"
   ]
  },
  {
   "cell_type": "code",
   "execution_count": 11,
   "id": "99d89997-f609-4967-b10f-8d10a3b08eb7",
   "metadata": {},
   "outputs": [],
   "source": [
    "df1=df[df.select_dtypes(include=['number']).columns] = df.select_dtypes(include=['number']).astype(float)"
   ]
  },
  {
   "cell_type": "code",
   "execution_count": 12,
   "id": "65fd679c-9303-432b-9b13-67bf3c1e5919",
   "metadata": {},
   "outputs": [
    {
     "data": {
      "text/plain": [
       "temperature    float64\n",
       "humidity       float64\n",
       "ph             float64\n",
       "rainfall       float64\n",
       "Nitrogen       float64\n",
       "Phosphorus     float64\n",
       "Potassium      float64\n",
       "dtype: object"
      ]
     },
     "execution_count": 12,
     "metadata": {},
     "output_type": "execute_result"
    }
   ],
   "source": [
    "df1.dtypes"
   ]
  },
  {
   "cell_type": "code",
   "execution_count": 13,
   "id": "da51e024-b72d-4184-939f-f3f3d169e07a",
   "metadata": {},
   "outputs": [
    {
     "data": {
      "text/plain": [
       "temperature    float64\n",
       "humidity       float64\n",
       "ph             float64\n",
       "rainfall       float64\n",
       "Crop            object\n",
       "Nitrogen       float64\n",
       "Phosphorus     float64\n",
       "Potassium      float64\n",
       "dtype: object"
      ]
     },
     "execution_count": 13,
     "metadata": {},
     "output_type": "execute_result"
    }
   ],
   "source": [
    "\n",
    "df.dtypes"
   ]
  },
  {
   "cell_type": "code",
   "execution_count": 14,
   "id": "8d22c0bd-ea17-4394-aba9-a5a88ec6592b",
   "metadata": {},
   "outputs": [
    {
     "data": {
      "text/plain": [
       "<Axes: >"
      ]
     },
     "execution_count": 14,
     "metadata": {},
     "output_type": "execute_result"
    },
    {
     "data": {
      "image/png": "[encoded data removed]",
      "text/plain": [
       "<Figure size 640x480 with 2 Axes>"
      ]
     },
     "metadata": {},
     "output_type": "display_data"
    }
   ],
   "source": [
    "sns.heatmap(df1.corr(),annot=True)"
   ]
  },
  {
   "cell_type": "markdown",
   "id": "00953121-461a-417c-bd54-7af4a4f6e299",
   "metadata": {},
   "source": [
    "# Seperating the features and target label from dataset\n"
   ]
  },
  {
   "cell_type": "markdown",
   "id": "3f989a1f-3119-45e9-aea5-3999b6cfed6c",
   "metadata": {},
   "source": [
    "Take a target value and seperating value that is independent value and dependent value for train test and regression and model trainin"
   ]
  },
  {
   "cell_type": "code",
   "execution_count": 15,
   "id": "9138005a-c908-40a9-a51d-c1ada7c8f5c1",
   "metadata": {},
   "outputs": [],
   "source": [
    "#independent variable\n",
    "crop_features = df[['Nitrogen','Phosphorus','Potassium','temperature','humidity','ph','rainfall']] \n",
    "\n",
    "#independent variaable\n",
    "crop=df['Crop']"
   ]
  },
  {
   "cell_type": "code",
   "execution_count": 16,
   "id": "2f5b11e1-c185-4f5e-aebd-fa80741539b2",
   "metadata": {},
   "outputs": [],
   "source": [
    "#initialize two empty list to append all model's name and crossponding name\n",
    "\n",
    "acc=[]\n",
    "model_name=[]\n"
   ]
  },
  {
   "cell_type": "markdown",
   "id": "8a6a2b86-8dc0-4635-9e6c-cf8bbb619830",
   "metadata": {},
   "source": [
    "# Creating dummies variable"
   ]
  },
  {
   "cell_type": "markdown",
   "id": "b956e197-3e65-4e76-abc4-c6a6bc5fe180",
   "metadata": {},
   "source": [
    "to perform we need to convert categorical data into numerical data "
   ]
  },
  {
   "cell_type": "code",
   "execution_count": 17,
   "id": "fd750ea3-569e-43be-a1b5-19a7b006f690",
   "metadata": {},
   "outputs": [],
   "source": [
    "# Create dummy variables for the Crop column\n",
    "df_encoded = pd.get_dummies(df, columns=['Crop'])\n"
   ]
  },
  {
   "cell_type": "code",
   "execution_count": 18,
   "id": "fc7d38ec-1495-4333-90f0-11b946f5b930",
   "metadata": {},
   "outputs": [],
   "source": [
    "# Convert only boolean columns to integer\n",
    "bool_columns = df_encoded.select_dtypes(include=['bool']).columns\n",
    "df_encoded[bool_columns] = df_encoded[bool_columns].astype(int)"
   ]
  },
  {
   "cell_type": "code",
   "execution_count": 19,
   "id": "ba5f4307-5584-47dd-b9fe-badb022aa5e1",
   "metadata": {},
   "outputs": [
    {
     "data": {
      "text/html": [
       "<div>\n",
       "<style scoped>\n",
       "    .dataframe tbody tr th:only-of-type {\n",
       "        vertical-align: middle;\n",
       "    }\n",
       "\n",
       "    .dataframe tbody tr th {\n",
       "        vertical-align: top;\n",
       "    }\n",
       "\n",
       "    .dataframe thead th {\n",
       "        text-align: right;\n",
       "    }\n",
       "</style>\n",
       "<table border=\"1\" class=\"dataframe\">\n",
       "  <thead>\n",
       "    <tr style=\"text-align: right;\">\n",
       "      <th></th>\n",
       "      <th>temperature</th>\n",
       "      <th>humidity</th>\n",
       "      <th>ph</th>\n",
       "      <th>rainfall</th>\n",
       "      <th>Nitrogen</th>\n",
       "      <th>Phosphorus</th>\n",
       "      <th>Potassium</th>\n",
       "      <th>Crop_apple</th>\n",
       "      <th>Crop_banana</th>\n",
       "      <th>Crop_blackgram</th>\n",
       "      <th>...</th>\n",
       "      <th>Crop_maize</th>\n",
       "      <th>Crop_mango</th>\n",
       "      <th>Crop_mungbean</th>\n",
       "      <th>Crop_muskmelon</th>\n",
       "      <th>Crop_orange</th>\n",
       "      <th>Crop_papaya</th>\n",
       "      <th>Crop_pigeonpeas</th>\n",
       "      <th>Crop_pomegranate</th>\n",
       "      <th>Crop_rice</th>\n",
       "      <th>Crop_watermelon</th>\n",
       "    </tr>\n",
       "  </thead>\n",
       "  <tbody>\n",
       "    <tr>\n",
       "      <th>0</th>\n",
       "      <td>20.879744</td>\n",
       "      <td>82.002744</td>\n",
       "      <td>6.502985</td>\n",
       "      <td>202.935536</td>\n",
       "      <td>70.0</td>\n",
       "      <td>58.0</td>\n",
       "      <td>36.0</td>\n",
       "      <td>0</td>\n",
       "      <td>0</td>\n",
       "      <td>0</td>\n",
       "      <td>...</td>\n",
       "      <td>0</td>\n",
       "      <td>0</td>\n",
       "      <td>0</td>\n",
       "      <td>0</td>\n",
       "      <td>0</td>\n",
       "      <td>0</td>\n",
       "      <td>0</td>\n",
       "      <td>0</td>\n",
       "      <td>1</td>\n",
       "      <td>0</td>\n",
       "    </tr>\n",
       "    <tr>\n",
       "      <th>1</th>\n",
       "      <td>21.770462</td>\n",
       "      <td>80.319644</td>\n",
       "      <td>7.038096</td>\n",
       "      <td>226.655537</td>\n",
       "      <td>73.0</td>\n",
       "      <td>51.0</td>\n",
       "      <td>42.0</td>\n",
       "      <td>0</td>\n",
       "      <td>0</td>\n",
       "      <td>0</td>\n",
       "      <td>...</td>\n",
       "      <td>0</td>\n",
       "      <td>0</td>\n",
       "      <td>0</td>\n",
       "      <td>0</td>\n",
       "      <td>0</td>\n",
       "      <td>0</td>\n",
       "      <td>0</td>\n",
       "      <td>0</td>\n",
       "      <td>1</td>\n",
       "      <td>0</td>\n",
       "    </tr>\n",
       "    <tr>\n",
       "      <th>2</th>\n",
       "      <td>23.004459</td>\n",
       "      <td>82.320763</td>\n",
       "      <td>7.840207</td>\n",
       "      <td>263.964248</td>\n",
       "      <td>69.0</td>\n",
       "      <td>48.0</td>\n",
       "      <td>40.0</td>\n",
       "      <td>0</td>\n",
       "      <td>0</td>\n",
       "      <td>0</td>\n",
       "      <td>...</td>\n",
       "      <td>0</td>\n",
       "      <td>0</td>\n",
       "      <td>0</td>\n",
       "      <td>0</td>\n",
       "      <td>0</td>\n",
       "      <td>0</td>\n",
       "      <td>0</td>\n",
       "      <td>0</td>\n",
       "      <td>1</td>\n",
       "      <td>0</td>\n",
       "    </tr>\n",
       "    <tr>\n",
       "      <th>3</th>\n",
       "      <td>26.491096</td>\n",
       "      <td>80.158363</td>\n",
       "      <td>6.980401</td>\n",
       "      <td>242.864034</td>\n",
       "      <td>91.0</td>\n",
       "      <td>36.0</td>\n",
       "      <td>42.0</td>\n",
       "      <td>0</td>\n",
       "      <td>0</td>\n",
       "      <td>0</td>\n",
       "      <td>...</td>\n",
       "      <td>0</td>\n",
       "      <td>0</td>\n",
       "      <td>0</td>\n",
       "      <td>0</td>\n",
       "      <td>0</td>\n",
       "      <td>0</td>\n",
       "      <td>0</td>\n",
       "      <td>0</td>\n",
       "      <td>1</td>\n",
       "      <td>0</td>\n",
       "    </tr>\n",
       "    <tr>\n",
       "      <th>4</th>\n",
       "      <td>20.130175</td>\n",
       "      <td>81.604873</td>\n",
       "      <td>7.628473</td>\n",
       "      <td>262.717340</td>\n",
       "      <td>71.0</td>\n",
       "      <td>48.0</td>\n",
       "      <td>44.0</td>\n",
       "      <td>0</td>\n",
       "      <td>0</td>\n",
       "      <td>0</td>\n",
       "      <td>...</td>\n",
       "      <td>0</td>\n",
       "      <td>0</td>\n",
       "      <td>0</td>\n",
       "      <td>0</td>\n",
       "      <td>0</td>\n",
       "      <td>0</td>\n",
       "      <td>0</td>\n",
       "      <td>0</td>\n",
       "      <td>1</td>\n",
       "      <td>0</td>\n",
       "    </tr>\n",
       "    <tr>\n",
       "      <th>...</th>\n",
       "      <td>...</td>\n",
       "      <td>...</td>\n",
       "      <td>...</td>\n",
       "      <td>...</td>\n",
       "      <td>...</td>\n",
       "      <td>...</td>\n",
       "      <td>...</td>\n",
       "      <td>...</td>\n",
       "      <td>...</td>\n",
       "      <td>...</td>\n",
       "      <td>...</td>\n",
       "      <td>...</td>\n",
       "      <td>...</td>\n",
       "      <td>...</td>\n",
       "      <td>...</td>\n",
       "      <td>...</td>\n",
       "      <td>...</td>\n",
       "      <td>...</td>\n",
       "      <td>...</td>\n",
       "      <td>...</td>\n",
       "      <td>...</td>\n",
       "    </tr>\n",
       "    <tr>\n",
       "      <th>1895</th>\n",
       "      <td>25.287846</td>\n",
       "      <td>89.636679</td>\n",
       "      <td>6.765095</td>\n",
       "      <td>58.286977</td>\n",
       "      <td>106.0</td>\n",
       "      <td>7.0</td>\n",
       "      <td>49.0</td>\n",
       "      <td>0</td>\n",
       "      <td>0</td>\n",
       "      <td>0</td>\n",
       "      <td>...</td>\n",
       "      <td>0</td>\n",
       "      <td>0</td>\n",
       "      <td>0</td>\n",
       "      <td>0</td>\n",
       "      <td>0</td>\n",
       "      <td>0</td>\n",
       "      <td>0</td>\n",
       "      <td>0</td>\n",
       "      <td>0</td>\n",
       "      <td>1</td>\n",
       "    </tr>\n",
       "    <tr>\n",
       "      <th>1896</th>\n",
       "      <td>26.638386</td>\n",
       "      <td>84.695469</td>\n",
       "      <td>6.189214</td>\n",
       "      <td>48.324286</td>\n",
       "      <td>108.0</td>\n",
       "      <td>22.0</td>\n",
       "      <td>52.0</td>\n",
       "      <td>0</td>\n",
       "      <td>0</td>\n",
       "      <td>0</td>\n",
       "      <td>...</td>\n",
       "      <td>0</td>\n",
       "      <td>0</td>\n",
       "      <td>0</td>\n",
       "      <td>0</td>\n",
       "      <td>0</td>\n",
       "      <td>0</td>\n",
       "      <td>0</td>\n",
       "      <td>0</td>\n",
       "      <td>0</td>\n",
       "      <td>1</td>\n",
       "    </tr>\n",
       "    <tr>\n",
       "      <th>1897</th>\n",
       "      <td>25.331045</td>\n",
       "      <td>84.305338</td>\n",
       "      <td>6.904242</td>\n",
       "      <td>41.532187</td>\n",
       "      <td>81.0</td>\n",
       "      <td>23.0</td>\n",
       "      <td>46.0</td>\n",
       "      <td>0</td>\n",
       "      <td>0</td>\n",
       "      <td>0</td>\n",
       "      <td>...</td>\n",
       "      <td>0</td>\n",
       "      <td>0</td>\n",
       "      <td>0</td>\n",
       "      <td>0</td>\n",
       "      <td>0</td>\n",
       "      <td>0</td>\n",
       "      <td>0</td>\n",
       "      <td>0</td>\n",
       "      <td>0</td>\n",
       "      <td>1</td>\n",
       "    </tr>\n",
       "    <tr>\n",
       "      <th>1898</th>\n",
       "      <td>26.897502</td>\n",
       "      <td>83.892415</td>\n",
       "      <td>6.463271</td>\n",
       "      <td>43.971937</td>\n",
       "      <td>108.0</td>\n",
       "      <td>6.0</td>\n",
       "      <td>54.0</td>\n",
       "      <td>0</td>\n",
       "      <td>0</td>\n",
       "      <td>0</td>\n",
       "      <td>...</td>\n",
       "      <td>0</td>\n",
       "      <td>0</td>\n",
       "      <td>0</td>\n",
       "      <td>0</td>\n",
       "      <td>0</td>\n",
       "      <td>0</td>\n",
       "      <td>0</td>\n",
       "      <td>0</td>\n",
       "      <td>0</td>\n",
       "      <td>1</td>\n",
       "    </tr>\n",
       "    <tr>\n",
       "      <th>1899</th>\n",
       "      <td>26.986037</td>\n",
       "      <td>89.413849</td>\n",
       "      <td>6.260839</td>\n",
       "      <td>58.548767</td>\n",
       "      <td>80.0</td>\n",
       "      <td>20.0</td>\n",
       "      <td>45.0</td>\n",
       "      <td>0</td>\n",
       "      <td>0</td>\n",
       "      <td>0</td>\n",
       "      <td>...</td>\n",
       "      <td>0</td>\n",
       "      <td>0</td>\n",
       "      <td>0</td>\n",
       "      <td>0</td>\n",
       "      <td>0</td>\n",
       "      <td>0</td>\n",
       "      <td>0</td>\n",
       "      <td>0</td>\n",
       "      <td>0</td>\n",
       "      <td>1</td>\n",
       "    </tr>\n",
       "  </tbody>\n",
       "</table>\n",
       "<p>1900 rows × 26 columns</p>\n",
       "</div>"
      ],
      "text/plain": [
       "      temperature   humidity        ph    rainfall  Nitrogen  Phosphorus  \\\n",
       "0       20.879744  82.002744  6.502985  202.935536      70.0        58.0   \n",
       "1       21.770462  80.319644  7.038096  226.655537      73.0        51.0   \n",
       "2       23.004459  82.320763  7.840207  263.964248      69.0        48.0   \n",
       "3       26.491096  80.158363  6.980401  242.864034      91.0        36.0   \n",
       "4       20.130175  81.604873  7.628473  262.717340      71.0        48.0   \n",
       "...           ...        ...       ...         ...       ...         ...   \n",
       "1895    25.287846  89.636679  6.765095   58.286977     106.0         7.0   \n",
       "1896    26.638386  84.695469  6.189214   48.324286     108.0        22.0   \n",
       "1897    25.331045  84.305338  6.904242   41.532187      81.0        23.0   \n",
       "1898    26.897502  83.892415  6.463271   43.971937     108.0         6.0   \n",
       "1899    26.986037  89.413849  6.260839   58.548767      80.0        20.0   \n",
       "\n",
       "      Potassium  Crop_apple  Crop_banana  Crop_blackgram  ...  Crop_maize  \\\n",
       "0          36.0           0            0               0  ...           0   \n",
       "1          42.0           0            0               0  ...           0   \n",
       "2          40.0           0            0               0  ...           0   \n",
       "3          42.0           0            0               0  ...           0   \n",
       "4          44.0           0            0               0  ...           0   \n",
       "...         ...         ...          ...             ...  ...         ...   \n",
       "1895       49.0           0            0               0  ...           0   \n",
       "1896       52.0           0            0               0  ...           0   \n",
       "1897       46.0           0            0               0  ...           0   \n",
       "1898       54.0           0            0               0  ...           0   \n",
       "1899       45.0           0            0               0  ...           0   \n",
       "\n",
       "      Crop_mango  Crop_mungbean  Crop_muskmelon  Crop_orange  Crop_papaya  \\\n",
       "0              0              0               0            0            0   \n",
       "1              0              0               0            0            0   \n",
       "2              0              0               0            0            0   \n",
       "3              0              0               0            0            0   \n",
       "4              0              0               0            0            0   \n",
       "...          ...            ...             ...          ...          ...   \n",
       "1895           0              0               0            0            0   \n",
       "1896           0              0               0            0            0   \n",
       "1897           0              0               0            0            0   \n",
       "1898           0              0               0            0            0   \n",
       "1899           0              0               0            0            0   \n",
       "\n",
       "      Crop_pigeonpeas  Crop_pomegranate  Crop_rice  Crop_watermelon  \n",
       "0                   0                 0          1                0  \n",
       "1                   0                 0          1                0  \n",
       "2                   0                 0          1                0  \n",
       "3                   0                 0          1                0  \n",
       "4                   0                 0          1                0  \n",
       "...               ...               ...        ...              ...  \n",
       "1895                0                 0          0                1  \n",
       "1896                0                 0          0                1  \n",
       "1897                0                 0          0                1  \n",
       "1898                0                 0          0                1  \n",
       "1899                0                 0          0                1  \n",
       "\n",
       "[1900 rows x 26 columns]"
      ]
     },
     "execution_count": 19,
     "metadata": {},
     "output_type": "execute_result"
    }
   ],
   "source": [
    "df_encoded\n",
    "# \n"
   ]
  },
  {
   "cell_type": "code",
   "execution_count": 20,
   "id": "dffc0153-7371-42e5-ab6e-2d0015eaa485",
   "metadata": {},
   "outputs": [
    {
     "data": {
      "text/plain": [
       "temperature         float64\n",
       "humidity            float64\n",
       "ph                  float64\n",
       "rainfall            float64\n",
       "Nitrogen            float64\n",
       "Phosphorus          float64\n",
       "Potassium           float64\n",
       "Crop_apple            int32\n",
       "Crop_banana           int32\n",
       "Crop_blackgram        int32\n",
       "Crop_coconut          int32\n",
       "Crop_coffee           int32\n",
       "Crop_cotton           int32\n",
       "Crop_grapes           int32\n",
       "Crop_jute             int32\n",
       "Crop_kidneybeans      int32\n",
       "Crop_maize            int32\n",
       "Crop_mango            int32\n",
       "Crop_mungbean         int32\n",
       "Crop_muskmelon        int32\n",
       "Crop_orange           int32\n",
       "Crop_papaya           int32\n",
       "Crop_pigeonpeas       int32\n",
       "Crop_pomegranate      int32\n",
       "Crop_rice             int32\n",
       "Crop_watermelon       int32\n",
       "dtype: object"
      ]
     },
     "execution_count": 20,
     "metadata": {},
     "output_type": "execute_result"
    }
   ],
   "source": [
    "df_encoded.dtypes"
   ]
  },
  {
   "cell_type": "markdown",
   "id": "11160ef7-d7ec-4aff-98da-60461fc7fd3e",
   "metadata": {},
   "source": [
    "# Train_test_Split"
   ]
  },
  {
   "cell_type": "code",
   "execution_count": 21,
   "id": "fa9c1c37-1362-49b1-9ced-74286bccc29c",
   "metadata": {},
   "outputs": [],
   "source": [
    "from sklearn.model_selection import  train_test_split"
   ]
  },
  {
   "cell_type": "code",
   "execution_count": 22,
   "id": "5460c4f0-20b2-4b41-b0a9-fa17d3b4f172",
   "metadata": {},
   "outputs": [],
   "source": [
    "# Independent variables (X) - all columns except the Crop columns\n",
    "x = df_encoded.drop(columns=[col for col in df_encoded.columns if col.startswith('Crop_')])\n"
   ]
  },
  {
   "cell_type": "code",
   "execution_count": 23,
   "id": "3bcab877-91a1-4385-96f8-b0d4a4a82c3f",
   "metadata": {},
   "outputs": [],
   "source": [
    "# Dependent variable (y) - all Crop columns (dummy variables)\n",
    "y = df_encoded[[col for col in df_encoded.columns if col.startswith('Crop_')]]"
   ]
  },
  {
   "cell_type": "code",
   "execution_count": 24,
   "id": "1c58f14f-5ccb-4755-a751-4708b1007857",
   "metadata": {},
   "outputs": [],
   "source": [
    "X_train,X_test,Y_train,Y_test = train_test_split(x,y,test_size=0.2,random_state=42)\n"
   ]
  },
  {
   "cell_type": "code",
   "execution_count": 25,
   "id": "ad26d304-a59d-4617-9c50-aea0171d263d",
   "metadata": {},
   "outputs": [
    {
     "name": "stdout",
     "output_type": "stream",
     "text": [
      "X_train shape: (1520, 7)\n",
      "X_test shape: (380, 7)\n",
      "Y_train shape: (1520, 19)\n",
      "Y_test shape: (380, 19)\n"
     ]
    }
   ],
   "source": [
    "print(\"X_train shape:\", X_train.shape)\n",
    "print(\"X_test shape:\", X_test.shape)\n",
    "print(\"Y_train shape:\", Y_train.shape)\n",
    "print(\"Y_test shape:\", Y_test.shape)\n"
   ]
  },
  {
   "cell_type": "markdown",
   "id": "66ab44a6-785b-4ed9-bd15-8016ab4b2c4a",
   "metadata": {},
   "source": [
    "# Logistic Regression"
   ]
  },
  {
   "cell_type": "markdown",
   "id": "dedb7be2-b221-48f0-892f-00eb43c4f34f",
   "metadata": {},
   "source": [
    "MultiOutputClassifier: This allows logistic regression to be applied to each target label separately, treating them as independent binary classification problems."
   ]
  },
  {
   "cell_type": "code",
   "execution_count": 26,
   "id": "f3a306a7-5000-4819-ab9b-f17cfc37eb1d",
   "metadata": {},
   "outputs": [],
   "source": [
    "from sklearn.linear_model import LogisticRegression\n",
    "from sklearn.multioutput import MultiOutputClassifier\n",
    "from sklearn import metrics\n",
    "from sklearn.metrics import classification_report, confusion_matrix"
   ]
  },
  {
   "cell_type": "code",
   "execution_count": 27,
   "id": "796f1821-cc21-446a-85ff-49bff32a1ab8",
   "metadata": {},
   "outputs": [],
   "source": [
    "# Initialize the logistic regression model with a higher max_iter for better convergence\n",
    "model = LogisticRegression(max_iter=1000, random_state=2)"
   ]
  },
  {
   "cell_type": "code",
   "execution_count": 28,
   "id": "8cd39ec0-da0e-492f-8325-3999d8101dc2",
   "metadata": {},
   "outputs": [],
   "source": [
    "multi_target_model = MultiOutputClassifier(model)"
   ]
  },
  {
   "cell_type": "code",
   "execution_count": 29,
   "id": "c10c0298-afbf-4655-9841-c6db2d29886e",
   "metadata": {},
   "outputs": [
    {
     "data": {
      "text/html": [
       "<style>#sk-container-id-1 {color: black;background-color: white;}#sk-container-id-1 pre{padding: 0;}#sk-container-id-1 div.sk-toggleable {background-color: white;}#sk-container-id-1 label.sk-toggleable__label {cursor: pointer;display: block;width: 100%;margin-bottom: 0;padding: 0.3em;box-sizing: border-box;text-align: center;}#sk-container-id-1 label.sk-toggleable__label-arrow:before {content: \"▸\";float: left;margin-right: 0.25em;color: #696969;}#sk-container-id-1 label.sk-toggleable__label-arrow:hover:before {color: black;}#sk-container-id-1 div.sk-estimator:hover label.sk-toggleable__label-arrow:before {color: black;}#sk-container-id-1 div.sk-toggleable__content {max-height: 0;max-width: 0;overflow: hidden;text-align: left;background-color: #f0f8ff;}#sk-container-id-1 div.sk-toggleable__content pre {margin: 0.2em;color: black;border-radius: 0.25em;background-color: #f0f8ff;}#sk-container-id-1 input.sk-toggleable__control:checked~div.sk-toggleable__content {max-height: 200px;max-width: 100%;overflow: auto;}#sk-container-id-1 input.sk-toggleable__control:checked~label.sk-toggleable__label-arrow:before {content: \"▾\";}#sk-container-id-1 div.sk-estimator input.sk-toggleable__control:checked~label.sk-toggleable__label {background-color: #d4ebff;}#sk-container-id-1 div.sk-label input.sk-toggleable__control:checked~label.sk-toggleable__label {background-color: #d4ebff;}#sk-container-id-1 input.sk-hidden--visually {border: 0;clip: rect(1px 1px 1px 1px);clip: rect(1px, 1px, 1px, 1px);height: 1px;margin: -1px;overflow: hidden;padding: 0;position: absolute;width: 1px;}#sk-container-id-1 div.sk-estimator {font-family: monospace;background-color: #f0f8ff;border: 1px dotted black;border-radius: 0.25em;box-sizing: border-box;margin-bottom: 0.5em;}#sk-container-id-1 div.sk-estimator:hover {background-color: #d4ebff;}#sk-container-id-1 div.sk-parallel-item::after {content: \"\";width: 100%;border-bottom: 1px solid gray;flex-grow: 1;}#sk-container-id-1 div.sk-label:hover label.sk-toggleable__label {background-color: #d4ebff;}#sk-container-id-1 div.sk-serial::before {content: \"\";position: absolute;border-left: 1px solid gray;box-sizing: border-box;top: 0;bottom: 0;left: 50%;z-index: 0;}#sk-container-id-1 div.sk-serial {display: flex;flex-direction: column;align-items: center;background-color: white;padding-right: 0.2em;padding-left: 0.2em;position: relative;}#sk-container-id-1 div.sk-item {position: relative;z-index: 1;}#sk-container-id-1 div.sk-parallel {display: flex;align-items: stretch;justify-content: center;background-color: white;position: relative;}#sk-container-id-1 div.sk-item::before, #sk-container-id-1 div.sk-parallel-item::before {content: \"\";position: absolute;border-left: 1px solid gray;box-sizing: border-box;top: 0;bottom: 0;left: 50%;z-index: -1;}#sk-container-id-1 div.sk-parallel-item {display: flex;flex-direction: column;z-index: 1;position: relative;background-color: white;}#sk-container-id-1 div.sk-parallel-item:first-child::after {align-self: flex-end;width: 50%;}#sk-container-id-1 div.sk-parallel-item:last-child::after {align-self: flex-start;width: 50%;}#sk-container-id-1 div.sk-parallel-item:only-child::after {width: 0;}#sk-container-id-1 div.sk-dashed-wrapped {border: 1px dashed gray;margin: 0 0.4em 0.5em 0.4em;box-sizing: border-box;padding-bottom: 0.4em;background-color: white;}#sk-container-id-1 div.sk-label label {font-family: monospace;font-weight: bold;display: inline-block;line-height: 1.2em;}#sk-container-id-1 div.sk-label-container {text-align: center;}#sk-container-id-1 div.sk-container {/* jupyter's `normalize.less` sets `[hidden] { display: none; }` but bootstrap.min.css set `[hidden] { display: none !important; }` so we also need the `!important` here to be able to override the default hidden behavior on the sphinx rendered scikit-learn.org. See: https://github.com/scikit-learn/scikit-learn/issues/21755 */display: inline-block !important;position: relative;}#sk-container-id-1 div.sk-text-repr-fallback {display: none;}</style><div id=\"sk-container-id-1\" class=\"sk-top-container\"><div class=\"sk-text-repr-fallback\"><pre>MultiOutputClassifier(estimator=LogisticRegression(max_iter=1000,\n",
       "                                                   random_state=2))</pre><b>In a Jupyter environment, please rerun this cell to show the HTML representation or trust the notebook. <br />On GitHub, the HTML representation is unable to render, please try loading this page with nbviewer.org.</b></div><div class=\"sk-container\" hidden><div class=\"sk-item sk-dashed-wrapped\"><div class=\"sk-label-container\"><div class=\"sk-label sk-toggleable\"><input class=\"sk-toggleable__control sk-hidden--visually\" id=\"sk-estimator-id-1\" type=\"checkbox\" ><label for=\"sk-estimator-id-1\" class=\"sk-toggleable__label sk-toggleable__label-arrow\">MultiOutputClassifier</label><div class=\"sk-toggleable__content\"><pre>MultiOutputClassifier(estimator=LogisticRegression(max_iter=1000,\n",
       "                                                   random_state=2))</pre></div></div></div><div class=\"sk-parallel\"><div class=\"sk-parallel-item\"><div class=\"sk-item\"><div class=\"sk-label-container\"><div class=\"sk-label sk-toggleable\"><input class=\"sk-toggleable__control sk-hidden--visually\" id=\"sk-estimator-id-2\" type=\"checkbox\" ><label for=\"sk-estimator-id-2\" class=\"sk-toggleable__label sk-toggleable__label-arrow\">estimator: LogisticRegression</label><div class=\"sk-toggleable__content\"><pre>LogisticRegression(max_iter=1000, random_state=2)</pre></div></div></div><div class=\"sk-serial\"><div class=\"sk-item\"><div class=\"sk-estimator sk-toggleable\"><input class=\"sk-toggleable__control sk-hidden--visually\" id=\"sk-estimator-id-3\" type=\"checkbox\" ><label for=\"sk-estimator-id-3\" class=\"sk-toggleable__label sk-toggleable__label-arrow\">LogisticRegression</label><div class=\"sk-toggleable__content\"><pre>LogisticRegression(max_iter=1000, random_state=2)</pre></div></div></div></div></div></div></div></div></div></div>"
      ],
      "text/plain": [
       "MultiOutputClassifier(estimator=LogisticRegression(max_iter=1000,\n",
       "                                                   random_state=2))"
      ]
     },
     "execution_count": 29,
     "metadata": {},
     "output_type": "execute_result"
    }
   ],
   "source": [
    "multi_target_model.fit(X_train,Y_train)"
   ]
  },
  {
   "cell_type": "code",
   "execution_count": 30,
   "id": "b3cec829-be90-448a-96cb-99aef8738c06",
   "metadata": {},
   "outputs": [],
   "source": [
    "# Predict on the test set\n",
    "y_predict = multi_target_model.predict(X_test)"
   ]
  },
  {
   "cell_type": "code",
   "execution_count": 31,
   "id": "195523be-6fe1-4969-852b-31b02e7693c3",
   "metadata": {},
   "outputs": [],
   "source": [
    "# # Convert one-hot encoded to single-label format for evaluation\n",
    "y_test_labels = Y_test.values.argmax(axis=1)\n",
    "y_predict_labels = y_predict.argmax(axis=1)"
   ]
  },
  {
   "cell_type": "code",
   "execution_count": 32,
   "id": "25179bad-c38b-4b6d-bcbb-c196a37b4c20",
   "metadata": {},
   "outputs": [
    {
     "name": "stdout",
     "output_type": "stream",
     "text": [
      "Crop Names for Report: ['apple', 'banana', 'blackgram', 'coconut', 'coffee', 'cotton', 'grapes', 'jute', 'kidneybeans', 'maize', 'mango', 'mungbean', 'muskmelon', 'orange', 'papaya', 'pigeonpeas', 'pomegranate', 'rice', 'watermelon']\n"
     ]
    }
   ],
   "source": [
    "# Check crop names\n",
    "crop_names = [col.replace('Crop_', '') for col in y.columns]\n",
    "print(\"Crop Names for Report:\", crop_names)"
   ]
  },
  {
   "cell_type": "code",
   "execution_count": 33,
   "id": "07ed52b1-f6ea-4a49-80c7-c95064c03028",
   "metadata": {},
   "outputs": [
    {
     "name": "stdout",
     "output_type": "stream",
     "text": [
      "Losgistic Regression's Accuracy is:  0.7631578947368421\n"
     ]
    }
   ],
   "source": [
    "accuracy = metrics.accuracy_score(y_test_labels , y_predict_labels)\n",
    "acc.append(accuracy)\n",
    "model_name.append(\"Logistic regression\")\n",
    "print(\"Losgistic Regression's Accuracy is: \", accuracy)"
   ]
  },
  {
   "cell_type": "code",
   "execution_count": 34,
   "id": "084b0ab4-2a65-4c79-b42f-a4cd4b9fc44f",
   "metadata": {},
   "outputs": [
    {
     "name": "stdout",
     "output_type": "stream",
     "text": [
      "              precision    recall  f1-score   support\n",
      "\n",
      "       apple       0.21      1.00      0.35        20\n",
      "      banana       0.83      0.91      0.87        11\n",
      "   blackgram       0.85      1.00      0.92        11\n",
      "     coconut       1.00      0.94      0.97        16\n",
      "      coffee       0.95      0.91      0.93        23\n",
      "      cotton       1.00      0.84      0.91        25\n",
      "      grapes       1.00      0.95      0.97        20\n",
      "        jute       0.00      0.00      0.00        24\n",
      " kidneybeans       1.00      1.00      1.00        17\n",
      "       maize       1.00      0.27      0.43        22\n",
      "       mango       0.95      0.95      0.95        22\n",
      "    mungbean       1.00      0.94      0.97        18\n",
      "   muskmelon       1.00      1.00      1.00        25\n",
      "      orange       1.00      1.00      1.00        18\n",
      "      papaya       1.00      0.69      0.82        26\n",
      "  pigeonpeas       1.00      0.74      0.85        23\n",
      " pomegranate       1.00      0.44      0.62        18\n",
      "        rice       0.67      0.63      0.65        19\n",
      "  watermelon       1.00      0.64      0.78        22\n",
      "\n",
      "    accuracy                           0.76       380\n",
      "   macro avg       0.87      0.78      0.79       380\n",
      "weighted avg       0.86      0.76      0.78       380\n",
      "\n"
     ]
    }
   ],
   "source": [
    "print(classification_report(y_test_labels, y_predict_labels, target_names=crop_names))"
   ]
  },
  {
   "cell_type": "code",
   "execution_count": null,
   "id": "ca146008-49b5-40ee-8734-d6a6d1e4a683",
   "metadata": {},
   "outputs": [],
   "source": []
  },
  {
   "cell_type": "markdown",
   "id": "3f970484-2081-4e06-82d6-a0d8a25ba1cd",
   "metadata": {},
   "source": [
    "\n",
    "\n",
    "\n",
    "\n",
    "# or be can perform other to perform logisitic regmto using label encoding"
   ]
  },
  {
   "cell_type": "code",
   "execution_count": null,
   "id": "5ca9680e-0eec-428e-8d76-9b77fd4a347d",
   "metadata": {},
   "outputs": [],
   "source": []
  },
  {
   "cell_type": "code",
   "execution_count": 35,
   "id": "94aceddd-b8b4-4961-b117-483c5a87f8ca",
   "metadata": {},
   "outputs": [],
   "source": [
    "from sklearn.model_selection import train_test_split\n",
    "from sklearn.linear_model import LogisticRegression\n",
    "from sklearn import metrics\n",
    "from sklearn.metrics import classification_report\n",
    "from sklearn.preprocessing import LabelEncoder"
   ]
  },
  {
   "cell_type": "code",
   "execution_count": 36,
   "id": "cc577f5e-220f-4a1b-8fd4-54c2dd12cdcd",
   "metadata": {},
   "outputs": [],
   "source": [
    "# Assuming df is your dataframe\n",
    "crop_features = df[['Nitrogen', 'Phosphorus', 'Potassium', 'temperature', 'humidity', 'ph', 'rainfall']]\n",
    "crop = df['Crop']"
   ]
  },
  {
   "cell_type": "code",
   "execution_count": 37,
   "id": "40a55d22-6d3e-42ea-9748-d232cf5da1fb",
   "metadata": {},
   "outputs": [],
   "source": [
    "#initialize two empty list to append all model's name and crossponding name\n",
    "\n",
    "accu=[]\n",
    "model_name=[]"
   ]
  },
  {
   "cell_type": "markdown",
   "id": "d548a67a-ea7e-49d5-93d6-285f91a3c659",
   "metadata": {},
   "source": [
    "# Label Encoding: Convert categorical target variable to numeric labels"
   ]
  },
  {
   "cell_type": "code",
   "execution_count": 38,
   "id": "df0e0abe-80a5-4acf-8526-ad48709c72d1",
   "metadata": {},
   "outputs": [
    {
     "data": {
      "text/plain": [
       "0       17\n",
       "1       17\n",
       "2       17\n",
       "3       17\n",
       "4       17\n",
       "        ..\n",
       "1895    18\n",
       "1896    18\n",
       "1897    18\n",
       "1898    18\n",
       "1899    18\n",
       "Name: Crop_Label, Length: 1900, dtype: int32"
      ]
     },
     "execution_count": 38,
     "metadata": {},
     "output_type": "execute_result"
    }
   ],
   "source": [
    "# Convert categorical target variable to numeric labels\n",
    "label_encoder = LabelEncoder()\n",
    "df['Crop_Label'] = label_encoder.fit_transform(df['Crop'])\n",
    "df['Crop_Label']"
   ]
  },
  {
   "cell_type": "markdown",
   "id": "ca4de775-83a1-47e0-899a-c222310109fd",
   "metadata": {},
   "source": [
    "# Seperating features and target label"
   ]
  },
  {
   "cell_type": "code",
   "execution_count": 39,
   "id": "4810acf0-01fe-4a91-a1d8-bf2032239db9",
   "metadata": {},
   "outputs": [],
   "source": [
    "# Prepare features (X) and target (y)\n",
    "x1 = df[['Nitrogen', 'Phosphorus', 'Potassium', 'temperature', 'humidity', 'ph', 'rainfall']]\n",
    "y1 = df['Crop_Label']"
   ]
  },
  {
   "cell_type": "markdown",
   "id": "596e96e1-547d-414a-a942-9fd58eb935ae",
   "metadata": {},
   "source": [
    "# Train_test_Split"
   ]
  },
  {
   "cell_type": "code",
   "execution_count": 40,
   "id": "176df32b-1903-45dc-a92a-2ec072c85339",
   "metadata": {},
   "outputs": [],
   "source": [
    "# Split data\n",
    "x_train, x_test, y_train, y_test = train_test_split(x1, y1, test_size=0.2, random_state=42)\n"
   ]
  },
  {
   "cell_type": "code",
   "execution_count": 41,
   "id": "4c4e0fc7-0918-4cc9-bd86-d1caef43eac4",
   "metadata": {},
   "outputs": [
    {
     "name": "stdout",
     "output_type": "stream",
     "text": [
      "x_train shape: (1520, 7)\n",
      "x_test shape: (380, 7)\n",
      "y_train shape: (1520,)\n",
      "y_test shape: (380,)\n"
     ]
    }
   ],
   "source": [
    "print(\"x_train shape:\", x_train.shape)\n",
    "print(\"x_test shape:\", x_test.shape)\n",
    "print(\"y_train shape:\", y_train.shape)\n",
    "print(\"y_test shape:\", y_test.shape)"
   ]
  },
  {
   "cell_type": "markdown",
   "id": "6c22b2be-e43c-4c0e-b409-73adcb5360da",
   "metadata": {},
   "source": [
    "# logistic regression model"
   ]
  },
  {
   "cell_type": "code",
   "execution_count": 42,
   "id": "19b0f1ba-677f-471d-b3e0-f19f05f0cd31",
   "metadata": {},
   "outputs": [
    {
     "name": "stderr",
     "output_type": "stream",
     "text": [
      "d:\\condaa\\Lib\\site-packages\\sklearn\\linear_model\\_logistic.py:458: ConvergenceWarning: lbfgs failed to converge (status=1):\n",
      "STOP: TOTAL NO. of ITERATIONS REACHED LIMIT.\n",
      "\n",
      "Increase the number of iterations (max_iter) or scale the data as shown in:\n",
      "    https://scikit-learn.org/stable/modules/preprocessing.html\n",
      "Please also refer to the documentation for alternative solver options:\n",
      "    https://scikit-learn.org/stable/modules/linear_model.html#logistic-regression\n",
      "  n_iter_i = _check_optimize_result(\n"
     ]
    },
    {
     "data": {
      "text/html": [
       "<style>#sk-container-id-2 {color: black;background-color: white;}#sk-container-id-2 pre{padding: 0;}#sk-container-id-2 div.sk-toggleable {background-color: white;}#sk-container-id-2 label.sk-toggleable__label {cursor: pointer;display: block;width: 100%;margin-bottom: 0;padding: 0.3em;box-sizing: border-box;text-align: center;}#sk-container-id-2 label.sk-toggleable__label-arrow:before {content: \"▸\";float: left;margin-right: 0.25em;color: #696969;}#sk-container-id-2 label.sk-toggleable__label-arrow:hover:before {color: black;}#sk-container-id-2 div.sk-estimator:hover label.sk-toggleable__label-arrow:before {color: black;}#sk-container-id-2 div.sk-toggleable__content {max-height: 0;max-width: 0;overflow: hidden;text-align: left;background-color: #f0f8ff;}#sk-container-id-2 div.sk-toggleable__content pre {margin: 0.2em;color: black;border-radius: 0.25em;background-color: #f0f8ff;}#sk-container-id-2 input.sk-toggleable__control:checked~div.sk-toggleable__content {max-height: 200px;max-width: 100%;overflow: auto;}#sk-container-id-2 input.sk-toggleable__control:checked~label.sk-toggleable__label-arrow:before {content: \"▾\";}#sk-container-id-2 div.sk-estimator input.sk-toggleable__control:checked~label.sk-toggleable__label {background-color: #d4ebff;}#sk-container-id-2 div.sk-label input.sk-toggleable__control:checked~label.sk-toggleable__label {background-color: #d4ebff;}#sk-container-id-2 input.sk-hidden--visually {border: 0;clip: rect(1px 1px 1px 1px);clip: rect(1px, 1px, 1px, 1px);height: 1px;margin: -1px;overflow: hidden;padding: 0;position: absolute;width: 1px;}#sk-container-id-2 div.sk-estimator {font-family: monospace;background-color: #f0f8ff;border: 1px dotted black;border-radius: 0.25em;box-sizing: border-box;margin-bottom: 0.5em;}#sk-container-id-2 div.sk-estimator:hover {background-color: #d4ebff;}#sk-container-id-2 div.sk-parallel-item::after {content: \"\";width: 100%;border-bottom: 1px solid gray;flex-grow: 1;}#sk-container-id-2 div.sk-label:hover label.sk-toggleable__label {background-color: #d4ebff;}#sk-container-id-2 div.sk-serial::before {content: \"\";position: absolute;border-left: 1px solid gray;box-sizing: border-box;top: 0;bottom: 0;left: 50%;z-index: 0;}#sk-container-id-2 div.sk-serial {display: flex;flex-direction: column;align-items: center;background-color: white;padding-right: 0.2em;padding-left: 0.2em;position: relative;}#sk-container-id-2 div.sk-item {position: relative;z-index: 1;}#sk-container-id-2 div.sk-parallel {display: flex;align-items: stretch;justify-content: center;background-color: white;position: relative;}#sk-container-id-2 div.sk-item::before, #sk-container-id-2 div.sk-parallel-item::before {content: \"\";position: absolute;border-left: 1px solid gray;box-sizing: border-box;top: 0;bottom: 0;left: 50%;z-index: -1;}#sk-container-id-2 div.sk-parallel-item {display: flex;flex-direction: column;z-index: 1;position: relative;background-color: white;}#sk-container-id-2 div.sk-parallel-item:first-child::after {align-self: flex-end;width: 50%;}#sk-container-id-2 div.sk-parallel-item:last-child::after {align-self: flex-start;width: 50%;}#sk-container-id-2 div.sk-parallel-item:only-child::after {width: 0;}#sk-container-id-2 div.sk-dashed-wrapped {border: 1px dashed gray;margin: 0 0.4em 0.5em 0.4em;box-sizing: border-box;padding-bottom: 0.4em;background-color: white;}#sk-container-id-2 div.sk-label label {font-family: monospace;font-weight: bold;display: inline-block;line-height: 1.2em;}#sk-container-id-2 div.sk-label-container {text-align: center;}#sk-container-id-2 div.sk-container {/* jupyter's `normalize.less` sets `[hidden] { display: none; }` but bootstrap.min.css set `[hidden] { display: none !important; }` so we also need the `!important` here to be able to override the default hidden behavior on the sphinx rendered scikit-learn.org. See: https://github.com/scikit-learn/scikit-learn/issues/21755 */display: inline-block !important;position: relative;}#sk-container-id-2 div.sk-text-repr-fallback {display: none;}</style><div id=\"sk-container-id-2\" class=\"sk-top-container\"><div class=\"sk-text-repr-fallback\"><pre>LogisticRegression(multi_class=&#x27;multinomial&#x27;, random_state=2)</pre><b>In a Jupyter environment, please rerun this cell to show the HTML representation or trust the notebook. <br />On GitHub, the HTML representation is unable to render, please try loading this page with nbviewer.org.</b></div><div class=\"sk-container\" hidden><div class=\"sk-item\"><div class=\"sk-estimator sk-toggleable\"><input class=\"sk-toggleable__control sk-hidden--visually\" id=\"sk-estimator-id-4\" type=\"checkbox\" checked><label for=\"sk-estimator-id-4\" class=\"sk-toggleable__label sk-toggleable__label-arrow\">LogisticRegression</label><div class=\"sk-toggleable__content\"><pre>LogisticRegression(multi_class=&#x27;multinomial&#x27;, random_state=2)</pre></div></div></div></div></div>"
      ],
      "text/plain": [
       "LogisticRegression(multi_class='multinomial', random_state=2)"
      ]
     },
     "execution_count": 42,
     "metadata": {},
     "output_type": "execute_result"
    }
   ],
   "source": [
    "# Initialize and train the logistic regression model for multi-class classification\n",
    "model = LogisticRegression(multi_class='multinomial',random_state=2)\n",
    "model.fit(x_train, y_train)"
   ]
  },
  {
   "cell_type": "code",
   "execution_count": 43,
   "id": "e6ec0a57-ca7c-4bc3-aee6-9d518571077e",
   "metadata": {},
   "outputs": [],
   "source": [
    "# Predict\n",
    "y_predict = model.predict(x_test)"
   ]
  },
  {
   "cell_type": "code",
   "execution_count": 44,
   "id": "6557e936-03a3-4b38-a9f4-b62307b0e18d",
   "metadata": {},
   "outputs": [
    {
     "name": "stdout",
     "output_type": "stream",
     "text": [
      "Logistic Regression's Accuracy is: 0.968421052631579\n"
     ]
    }
   ],
   "source": [
    "# Calculate accuracy\n",
    "accuracy = metrics.accuracy_score(y_test, y_predict)\n",
    "print(\"Logistic Regression's Accuracy is:\", accuracy)"
   ]
  },
  {
   "cell_type": "code",
   "execution_count": 45,
   "id": "4e2cb223-28da-4a00-ba54-ec3a2ad44869",
   "metadata": {},
   "outputs": [],
   "source": [
    "accu.append(accuracy)\n",
    "model_name.append(\"Logistic regression\")"
   ]
  },
  {
   "cell_type": "code",
   "execution_count": 46,
   "id": "95d83999-4403-417e-97a4-815e145d83d5",
   "metadata": {},
   "outputs": [
    {
     "name": "stdout",
     "output_type": "stream",
     "text": [
      "              precision    recall  f1-score   support\n",
      "\n",
      "           0       1.00      1.00      1.00        20\n",
      "           1       1.00      1.00      1.00        11\n",
      "           2       1.00      1.00      1.00        11\n",
      "           3       1.00      1.00      1.00        16\n",
      "           4       0.95      0.91      0.93        23\n",
      "           5       0.93      1.00      0.96        25\n",
      "           6       1.00      1.00      1.00        20\n",
      "           7       0.77      0.96      0.85        24\n",
      "           8       1.00      1.00      1.00        17\n",
      "           9       0.95      0.86      0.90        22\n",
      "          10       1.00      1.00      1.00        22\n",
      "          11       1.00      1.00      1.00        18\n",
      "          12       1.00      1.00      1.00        25\n",
      "          13       1.00      1.00      1.00        18\n",
      "          14       0.96      1.00      0.98        26\n",
      "          15       1.00      1.00      1.00        23\n",
      "          16       1.00      1.00      1.00        18\n",
      "          17       1.00      0.68      0.81        19\n",
      "          18       1.00      1.00      1.00        22\n",
      "\n",
      "    accuracy                           0.97       380\n",
      "   macro avg       0.98      0.97      0.97       380\n",
      "weighted avg       0.97      0.97      0.97       380\n",
      "\n"
     ]
    }
   ],
   "source": [
    "crop_names = label_encoder.inverse_transform(range(len(label_encoder.classes_)))\n",
    "report = classification_report(y_test, y_predict)\n",
    "print(report)"
   ]
  },
  {
   "cell_type": "code",
   "execution_count": null,
   "id": "00475f33-5527-4f06-a244-7307aabc74e0",
   "metadata": {},
   "outputs": [],
   "source": []
  }
 ],
 "metadata": {
  "kernelspec": {
   "display_name": "Python 3 (ipykernel)",
   "language": "python",
   "name": "python3"
  },
  "language_info": {
   "codemirror_mode": {
    "name": "ipython",
    "version": 3
   },
   "file_extension": ".py",
   "mimetype": "text/x-python",
   "name": "python",
   "nbconvert_exporter": "python",
   "pygments_lexer": "ipython3",
   "version": "3.11.7"
  }
 },
 "nbformat": 4,
 "nbformat_minor": 5
}
